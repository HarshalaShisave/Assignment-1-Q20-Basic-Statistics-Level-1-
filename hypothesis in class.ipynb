{
  "nbformat": 4,
  "nbformat_minor": 0,
  "metadata": {
    "colab": {
      "name": "hypothesis.ipynb",
      "provenance": [],
      "collapsed_sections": [],
      "authorship_tag": "ABX9TyMwpuyyR9FDjrgiATmv0XzZ",
      "include_colab_link": true
    },
    "kernelspec": {
      "name": "python3",
      "display_name": "Python 3"
    },
    "language_info": {
      "name": "python"
    }
  },
  "cells": [
    {
      "cell_type": "markdown",
      "metadata": {
        "id": "view-in-github",
        "colab_type": "text"
      },
      "source": [
        "<a href=\"https://colab.research.google.com/github/HarshalaShisave/Assignment-1-Q20-Basic-Statistics-Level-1-/blob/main/hypothesis%20in%20class.ipynb\" target=\"_parent\"><img src=\"https://colab.research.google.com/assets/colab-badge.svg\" alt=\"Open In Colab\"/></a>"
      ]
    },
    {
      "cell_type": "code",
      "source": [
        "import scipy\n",
        "import numpy as np"
      ],
      "metadata": {
        "id": "6fgWY0D8OyWr"
      },
      "execution_count": 2,
      "outputs": []
    },
    {
      "cell_type": "markdown",
      "source": [
        "Ho:Mu=4"
      ],
      "metadata": {
        "id": "cxcDtWroR0fI"
      }
    },
    {
      "cell_type": "markdown",
      "source": [
        " Ha:Mu!=4"
      ],
      "metadata": {
        "id": "WHH-l-5NSSdg"
      }
    },
    {
      "cell_type": "code",
      "source": [
        "Tstatistic =(4-3.8)/(3/np.sqrt(50)) "
      ],
      "metadata": {
        "id": "5MKa1LhcOyTE"
      },
      "execution_count": 11,
      "outputs": []
    },
    {
      "cell_type": "code",
      "source": [
        "Tstatistic"
      ],
      "metadata": {
        "colab": {
          "base_uri": "https://localhost:8080/"
        },
        "id": "1UQTV9M3OyKS",
        "outputId": "b37487d8-2125-4a6a-aac4-d0f4d4bcfc60"
      },
      "execution_count": 12,
      "outputs": [
        {
          "output_type": "execute_result",
          "data": {
            "text/plain": [
              "0.4714045207910321"
            ]
          },
          "metadata": {},
          "execution_count": 12
        }
      ]
    },
    {
      "cell_type": "code",
      "source": [
        "#forcalculating pvalue in 2tail t-test\n",
        "2*stats.t.cdf(0.47,df=49)"
      ],
      "metadata": {
        "colab": {
          "base_uri": "https://localhost:8080/"
        },
        "id": "RcTh9GiOPs1H",
        "outputId": "b39dea17-5cdc-4e17-a99d-418fd7aec140"
      },
      "execution_count": 13,
      "outputs": [
        {
          "output_type": "execute_result",
          "data": {
            "text/plain": [
              "1.3595598504414688"
            ]
          },
          "metadata": {},
          "execution_count": 13
        }
      ]
    },
    {
      "cell_type": "markdown",
      "source": [
        "pval>0.05 therefore,we reject Ho"
      ],
      "metadata": {
        "id": "QAYdfyQZSPOT"
      }
    }
  ]
}